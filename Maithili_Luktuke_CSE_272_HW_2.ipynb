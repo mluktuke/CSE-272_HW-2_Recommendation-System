{
  "nbformat": 4,
  "nbformat_minor": 0,
  "metadata": {
    "colab": {
      "provenance": []
    },
    "kernelspec": {
      "name": "python3",
      "display_name": "Python 3"
    },
    "language_info": {
      "name": "python"
    }
  },
  "cells": [
    {
      "cell_type": "code",
      "execution_count": 1,
      "metadata": {
        "colab": {
          "base_uri": "https://localhost:8080/"
        },
        "id": "rpm88Y23qKAy",
        "outputId": "69fc9230-17cf-4e90-dab6-c45fee75619b"
      },
      "outputs": [
        {
          "output_type": "stream",
          "name": "stdout",
          "text": [
            "Mounted at /content/drive\n"
          ]
        }
      ],
      "source": [
        "from google.colab import drive\n",
        "drive.mount('/content/drive')"
      ]
    },
    {
      "cell_type": "markdown",
      "source": [
        "## Installing Surprise"
      ],
      "metadata": {
        "id": "CVB9V2kgusVJ"
      }
    },
    {
      "cell_type": "code",
      "source": [
        "!pip install surprise"
      ],
      "metadata": {
        "colab": {
          "base_uri": "https://localhost:8080/"
        },
        "id": "7qGfwHFzQCEC",
        "outputId": "bd248a06-486f-4159-e776-1f70f34e0583"
      },
      "execution_count": 19,
      "outputs": [
        {
          "output_type": "stream",
          "name": "stdout",
          "text": [
            "Looking in indexes: https://pypi.org/simple, https://us-python.pkg.dev/colab-wheels/public/simple/\n",
            "Requirement already satisfied: surprise in /usr/local/lib/python3.10/dist-packages (0.1)\n",
            "Requirement already satisfied: scikit-surprise in /usr/local/lib/python3.10/dist-packages (from surprise) (1.1.3)\n",
            "Requirement already satisfied: joblib>=1.0.0 in /usr/local/lib/python3.10/dist-packages (from scikit-surprise->surprise) (1.2.0)\n",
            "Requirement already satisfied: numpy>=1.17.3 in /usr/local/lib/python3.10/dist-packages (from scikit-surprise->surprise) (1.22.4)\n",
            "Requirement already satisfied: scipy>=1.3.2 in /usr/local/lib/python3.10/dist-packages (from scikit-surprise->surprise) (1.10.1)\n"
          ]
        }
      ]
    },
    {
      "cell_type": "markdown",
      "source": [
        "## Imports"
      ],
      "metadata": {
        "id": "9L6fcGd5vLEE"
      }
    },
    {
      "cell_type": "code",
      "source": [
        "import json\n",
        "import pandas as pd\n",
        "from surprise import Reader\n",
        "from surprise import Dataset\n",
        "from surprise.model_selection import train_test_split\n",
        "from surprise import prediction_algorithms\n",
        "from surprise import accuracy\n",
        "from collections import defaultdict"
      ],
      "metadata": {
        "id": "tqVuRgyqqXsR"
      },
      "execution_count": 1,
      "outputs": []
    },
    {
      "cell_type": "markdown",
      "source": [
        "## Data Selection and Preprocessing"
      ],
      "metadata": {
        "id": "kDEcP026vN7d"
      }
    },
    {
      "cell_type": "code",
      "source": [
        "# reading in the Movies and TV json file and drop the unecessary columns\n",
        "# only considering the first 500000 entries since the entire file is too big\n",
        "df = pd.read_json('/content/drive/MyDrive/CSE 272/HW 2_Recommendation Systems/Movies_and_TV.json', lines = True, nrows = 500000)\n",
        "df.drop(['verified', 'reviewTime', 'style', 'reviewerName', 'reviewText', 'summary', 'unixReviewTime', 'vote', 'image'], axis=1, inplace=True)"
      ],
      "metadata": {
        "id": "0xcmQRpY9Eu9"
      },
      "execution_count": 2,
      "outputs": []
    },
    {
      "cell_type": "code",
      "source": [
        "# making sure there are a 500000 entries and the other columns were dropped\n",
        "print(df.shape)\n",
        "df.head()"
      ],
      "metadata": {
        "id": "reFfzSIYL3E6",
        "colab": {
          "base_uri": "https://localhost:8080/",
          "height": 224
        },
        "outputId": "f69b580c-046b-450b-88a6-fe468536c048"
      },
      "execution_count": 3,
      "outputs": [
        {
          "output_type": "stream",
          "name": "stdout",
          "text": [
            "(500000, 3)\n"
          ]
        },
        {
          "output_type": "execute_result",
          "data": {
            "text/plain": [
              "   overall      reviewerID        asin\n",
              "0        5  A3478QRKQDOPQ2  0001527665\n",
              "1        5  A2VHSG6TZHU1OB  0001527665\n",
              "2        5  A23EJWOW1TLENE  0001527665\n",
              "3        5  A1KM9FNEJ8Q171  0001527665\n",
              "4        4  A38LY2SSHVHRYB  0001527665"
            ],
            "text/html": [
              "\n",
              "  <div id=\"df-3d387fe9-0572-4940-95cc-9a7db5559d7b\">\n",
              "    <div class=\"colab-df-container\">\n",
              "      <div>\n",
              "<style scoped>\n",
              "    .dataframe tbody tr th:only-of-type {\n",
              "        vertical-align: middle;\n",
              "    }\n",
              "\n",
              "    .dataframe tbody tr th {\n",
              "        vertical-align: top;\n",
              "    }\n",
              "\n",
              "    .dataframe thead th {\n",
              "        text-align: right;\n",
              "    }\n",
              "</style>\n",
              "<table border=\"1\" class=\"dataframe\">\n",
              "  <thead>\n",
              "    <tr style=\"text-align: right;\">\n",
              "      <th></th>\n",
              "      <th>overall</th>\n",
              "      <th>reviewerID</th>\n",
              "      <th>asin</th>\n",
              "    </tr>\n",
              "  </thead>\n",
              "  <tbody>\n",
              "    <tr>\n",
              "      <th>0</th>\n",
              "      <td>5</td>\n",
              "      <td>A3478QRKQDOPQ2</td>\n",
              "      <td>0001527665</td>\n",
              "    </tr>\n",
              "    <tr>\n",
              "      <th>1</th>\n",
              "      <td>5</td>\n",
              "      <td>A2VHSG6TZHU1OB</td>\n",
              "      <td>0001527665</td>\n",
              "    </tr>\n",
              "    <tr>\n",
              "      <th>2</th>\n",
              "      <td>5</td>\n",
              "      <td>A23EJWOW1TLENE</td>\n",
              "      <td>0001527665</td>\n",
              "    </tr>\n",
              "    <tr>\n",
              "      <th>3</th>\n",
              "      <td>5</td>\n",
              "      <td>A1KM9FNEJ8Q171</td>\n",
              "      <td>0001527665</td>\n",
              "    </tr>\n",
              "    <tr>\n",
              "      <th>4</th>\n",
              "      <td>4</td>\n",
              "      <td>A38LY2SSHVHRYB</td>\n",
              "      <td>0001527665</td>\n",
              "    </tr>\n",
              "  </tbody>\n",
              "</table>\n",
              "</div>\n",
              "      <button class=\"colab-df-convert\" onclick=\"convertToInteractive('df-3d387fe9-0572-4940-95cc-9a7db5559d7b')\"\n",
              "              title=\"Convert this dataframe to an interactive table.\"\n",
              "              style=\"display:none;\">\n",
              "        \n",
              "  <svg xmlns=\"http://www.w3.org/2000/svg\" height=\"24px\"viewBox=\"0 0 24 24\"\n",
              "       width=\"24px\">\n",
              "    <path d=\"M0 0h24v24H0V0z\" fill=\"none\"/>\n",
              "    <path d=\"M18.56 5.44l.94 2.06.94-2.06 2.06-.94-2.06-.94-.94-2.06-.94 2.06-2.06.94zm-11 1L8.5 8.5l.94-2.06 2.06-.94-2.06-.94L8.5 2.5l-.94 2.06-2.06.94zm10 10l.94 2.06.94-2.06 2.06-.94-2.06-.94-.94-2.06-.94 2.06-2.06.94z\"/><path d=\"M17.41 7.96l-1.37-1.37c-.4-.4-.92-.59-1.43-.59-.52 0-1.04.2-1.43.59L10.3 9.45l-7.72 7.72c-.78.78-.78 2.05 0 2.83L4 21.41c.39.39.9.59 1.41.59.51 0 1.02-.2 1.41-.59l7.78-7.78 2.81-2.81c.8-.78.8-2.07 0-2.86zM5.41 20L4 18.59l7.72-7.72 1.47 1.35L5.41 20z\"/>\n",
              "  </svg>\n",
              "      </button>\n",
              "      \n",
              "  <style>\n",
              "    .colab-df-container {\n",
              "      display:flex;\n",
              "      flex-wrap:wrap;\n",
              "      gap: 12px;\n",
              "    }\n",
              "\n",
              "    .colab-df-convert {\n",
              "      background-color: #E8F0FE;\n",
              "      border: none;\n",
              "      border-radius: 50%;\n",
              "      cursor: pointer;\n",
              "      display: none;\n",
              "      fill: #1967D2;\n",
              "      height: 32px;\n",
              "      padding: 0 0 0 0;\n",
              "      width: 32px;\n",
              "    }\n",
              "\n",
              "    .colab-df-convert:hover {\n",
              "      background-color: #E2EBFA;\n",
              "      box-shadow: 0px 1px 2px rgba(60, 64, 67, 0.3), 0px 1px 3px 1px rgba(60, 64, 67, 0.15);\n",
              "      fill: #174EA6;\n",
              "    }\n",
              "\n",
              "    [theme=dark] .colab-df-convert {\n",
              "      background-color: #3B4455;\n",
              "      fill: #D2E3FC;\n",
              "    }\n",
              "\n",
              "    [theme=dark] .colab-df-convert:hover {\n",
              "      background-color: #434B5C;\n",
              "      box-shadow: 0px 1px 3px 1px rgba(0, 0, 0, 0.15);\n",
              "      filter: drop-shadow(0px 1px 2px rgba(0, 0, 0, 0.3));\n",
              "      fill: #FFFFFF;\n",
              "    }\n",
              "  </style>\n",
              "\n",
              "      <script>\n",
              "        const buttonEl =\n",
              "          document.querySelector('#df-3d387fe9-0572-4940-95cc-9a7db5559d7b button.colab-df-convert');\n",
              "        buttonEl.style.display =\n",
              "          google.colab.kernel.accessAllowed ? 'block' : 'none';\n",
              "\n",
              "        async function convertToInteractive(key) {\n",
              "          const element = document.querySelector('#df-3d387fe9-0572-4940-95cc-9a7db5559d7b');\n",
              "          const dataTable =\n",
              "            await google.colab.kernel.invokeFunction('convertToInteractive',\n",
              "                                                     [key], {});\n",
              "          if (!dataTable) return;\n",
              "\n",
              "          const docLinkHtml = 'Like what you see? Visit the ' +\n",
              "            '<a target=\"_blank\" href=https://colab.research.google.com/notebooks/data_table.ipynb>data table notebook</a>'\n",
              "            + ' to learn more about interactive tables.';\n",
              "          element.innerHTML = '';\n",
              "          dataTable['output_type'] = 'display_data';\n",
              "          await google.colab.output.renderOutput(dataTable, element);\n",
              "          const docLink = document.createElement('div');\n",
              "          docLink.innerHTML = docLinkHtml;\n",
              "          element.appendChild(docLink);\n",
              "        }\n",
              "      </script>\n",
              "    </div>\n",
              "  </div>\n",
              "  "
            ]
          },
          "metadata": {},
          "execution_count": 3
        }
      ]
    },
    {
      "cell_type": "code",
      "source": [
        "# converting the json file to csv\n",
        "df.to_csv('/content/drive/MyDrive/CSE 272/HW 2_Recommendation Systems/data.csv', index = False)"
      ],
      "metadata": {
        "id": "nMOAwV84RBAE"
      },
      "execution_count": 4,
      "outputs": []
    },
    {
      "cell_type": "code",
      "source": [
        "# reading in the csv file\n",
        "data = pd.read_csv('/content/drive/MyDrive/CSE 272/HW 2_Recommendation Systems/data.csv')\n",
        "data = data[['reviewerID', 'asin', 'overall']]\n",
        "reader = Reader()\n",
        "data = Dataset.load_from_df(data, reader)"
      ],
      "metadata": {
        "id": "y8R7vtKOS6B7"
      },
      "execution_count": 5,
      "outputs": []
    },
    {
      "cell_type": "markdown",
      "source": [
        "## Train and Test Data"
      ],
      "metadata": {
        "id": "JiLMS-WGvZge"
      }
    },
    {
      "cell_type": "code",
      "source": [
        "# splitting the data into train and test data\n",
        "train_data, test_data = train_test_split(data, test_size = 0.2, random_state = 10)"
      ],
      "metadata": {
        "id": "QZjgoww2gd3i"
      },
      "execution_count": 31,
      "outputs": []
    },
    {
      "cell_type": "markdown",
      "source": [
        "## Baseline"
      ],
      "metadata": {
        "id": "I7xq7tSsvgP3"
      }
    },
    {
      "cell_type": "code",
      "source": [
        "# Baseline algorithm and MAE and RSME calculations\n",
        "baseline = prediction_algorithms.baseline_only.BaselineOnly(bsl_options={}, verbose=True)\n",
        "baseline.fit(train_data)\n",
        "pred_base = baseline.test(test_data)"
      ],
      "metadata": {
        "colab": {
          "base_uri": "https://localhost:8080/"
        },
        "id": "axiMG6palKqB",
        "outputId": "92de97e7-63a3-4c82-8ba5-206a87992c5a"
      },
      "execution_count": 32,
      "outputs": [
        {
          "output_type": "stream",
          "name": "stdout",
          "text": [
            "Estimating biases using als...\n"
          ]
        }
      ]
    },
    {
      "cell_type": "code",
      "source": [
        "mae_base = accuracy.mae(pred_base, verbose = True)"
      ],
      "metadata": {
        "colab": {
          "base_uri": "https://localhost:8080/"
        },
        "id": "NU1C6sazls1J",
        "outputId": "69931840-e160-4a29-8723-9cacef8c8dd5"
      },
      "execution_count": 37,
      "outputs": [
        {
          "output_type": "stream",
          "name": "stdout",
          "text": [
            "MAE:  0.7458\n"
          ]
        }
      ]
    },
    {
      "cell_type": "code",
      "source": [
        "rsme_base = accuracy.rmse(pred_base, verbose = True)"
      ],
      "metadata": {
        "colab": {
          "base_uri": "https://localhost:8080/"
        },
        "id": "bbyqaWfYlw-2",
        "outputId": "d577b165-ce66-4a5a-ebef-e371f8bfa663"
      },
      "execution_count": 38,
      "outputs": [
        {
          "output_type": "stream",
          "name": "stdout",
          "text": [
            "RMSE: 1.0365\n"
          ]
        }
      ]
    },
    {
      "cell_type": "markdown",
      "source": [
        "## Matrix Factorization"
      ],
      "metadata": {
        "id": "PK0zontgviX1"
      }
    },
    {
      "cell_type": "code",
      "source": [
        "# Matrix Factorization algorithm and MAE and RSME calculations\n",
        "matrix_factor = prediction_algorithms.matrix_factorization.SVD(n_epochs = 50, verbose = True)\n",
        "matrix_factor.fit(train_data)\n",
        "pred_mf = matrix_factor.test(test_data)"
      ],
      "metadata": {
        "id": "tlY4GsRXYE5B"
      },
      "execution_count": null,
      "outputs": []
    },
    {
      "cell_type": "code",
      "source": [
        "mae_mf = accuracy.mae(pred_mf, verbose = True)"
      ],
      "metadata": {
        "colab": {
          "base_uri": "https://localhost:8080/"
        },
        "id": "1beHfdhMasPv",
        "outputId": "21bf1a5f-de80-400f-b9cc-12f3faa99f92"
      },
      "execution_count": 40,
      "outputs": [
        {
          "output_type": "stream",
          "name": "stdout",
          "text": [
            "MAE:  0.7419\n"
          ]
        }
      ]
    },
    {
      "cell_type": "code",
      "source": [
        "rmse_mf = accuracy.rmse(pred_mf, verbose = True)"
      ],
      "metadata": {
        "colab": {
          "base_uri": "https://localhost:8080/"
        },
        "id": "Ehb079wXc6eb",
        "outputId": "9a004740-24e8-4664-95dc-534ab693507d"
      },
      "execution_count": 41,
      "outputs": [
        {
          "output_type": "stream",
          "name": "stdout",
          "text": [
            "RMSE: 1.0415\n"
          ]
        }
      ]
    },
    {
      "cell_type": "markdown",
      "source": [
        "## Item-based CF"
      ],
      "metadata": {
        "id": "vzfT42JOvlLm"
      }
    },
    {
      "cell_type": "code",
      "source": [
        "# Item-based CF algorithm and MAE and RSME calculations\n",
        "item_based_CF = prediction_algorithms.knns.KNNWithMeans(k = 5, sim_options = {'name':'pearson_baseline', 'user_based':False})\n",
        "item_based_CF.fit(train_data)\n",
        "pred_cf = item_based_CF.test(test_data)"
      ],
      "metadata": {
        "colab": {
          "base_uri": "https://localhost:8080/"
        },
        "id": "mrGiJRGRdOFE",
        "outputId": "aa3e77ae-7181-47f9-815e-fb01b4ee1378"
      },
      "execution_count": 42,
      "outputs": [
        {
          "output_type": "stream",
          "name": "stdout",
          "text": [
            "Estimating biases using als...\n",
            "Computing the pearson_baseline similarity matrix...\n",
            "Done computing similarity matrix.\n"
          ]
        }
      ]
    },
    {
      "cell_type": "code",
      "source": [
        "mae_cf = accuracy.mae(pred_cf, verbose = True)"
      ],
      "metadata": {
        "colab": {
          "base_uri": "https://localhost:8080/"
        },
        "id": "X0WDsExFfTpo",
        "outputId": "a256e918-5221-4759-fdee-91576e50e8ea"
      },
      "execution_count": 43,
      "outputs": [
        {
          "output_type": "stream",
          "name": "stdout",
          "text": [
            "MAE:  0.7906\n"
          ]
        }
      ]
    },
    {
      "cell_type": "code",
      "source": [
        "rsme_cf = accuracy.rmse(pred_cf, verbose = True)"
      ],
      "metadata": {
        "colab": {
          "base_uri": "https://localhost:8080/"
        },
        "id": "vXGGfavefVPp",
        "outputId": "6b5ac49a-b5f9-40e7-94ce-25d58273ca56"
      },
      "execution_count": 44,
      "outputs": [
        {
          "output_type": "stream",
          "name": "stdout",
          "text": [
            "RMSE: 1.0963\n"
          ]
        }
      ]
    },
    {
      "cell_type": "markdown",
      "source": [
        "## Slope One"
      ],
      "metadata": {
        "id": "iJIEszd9voGr"
      }
    },
    {
      "cell_type": "code",
      "source": [
        "# Slope One algorithm and MAE and RSME calculations\n",
        "slope_one = prediction_algorithms.slope_one.SlopeOne()\n",
        "slope_one.fit(train_data)\n",
        "pred_so = slope_one.test(test_data)"
      ],
      "metadata": {
        "id": "HjDqcUv1giNy"
      },
      "execution_count": 45,
      "outputs": []
    },
    {
      "cell_type": "code",
      "source": [
        "mae_so = accuracy.mae(pred_so, verbose = True)"
      ],
      "metadata": {
        "colab": {
          "base_uri": "https://localhost:8080/"
        },
        "id": "VD2kGMSjhGmr",
        "outputId": "7a0eea47-b7a3-4f6f-903f-6f2924624575"
      },
      "execution_count": 46,
      "outputs": [
        {
          "output_type": "stream",
          "name": "stdout",
          "text": [
            "MAE:  0.7969\n"
          ]
        }
      ]
    },
    {
      "cell_type": "code",
      "source": [
        "rsme_so = accuracy.rmse(pred_so, verbose = True)"
      ],
      "metadata": {
        "colab": {
          "base_uri": "https://localhost:8080/"
        },
        "id": "UDooAj96hH90",
        "outputId": "60a0f46f-36d1-4408-b9d7-6234a82d2293"
      },
      "execution_count": 47,
      "outputs": [
        {
          "output_type": "stream",
          "name": "stdout",
          "text": [
            "RMSE: 1.1287\n"
          ]
        }
      ]
    },
    {
      "cell_type": "markdown",
      "source": [
        "## Ranking"
      ],
      "metadata": {
        "id": "lUPvQG-rvqxo"
      }
    },
    {
      "cell_type": "code",
      "source": [
        "# ranking (getting the top 10 items for each user)\n",
        "def get_top_n(predictions, n=10):\n",
        "    # First map the predictions to each user.\n",
        "    top_n = defaultdict(list)\n",
        "    for uid, iid, true_r, est, _ in predictions:\n",
        "        top_n[uid].append((iid, est))\n",
        "    # Then sort the predictions for each user and retrieve the k highest ones.\n",
        "    for uid, user_ratings in top_n.items():\n",
        "        user_ratings.sort(key=lambda x: x[1], reverse=True)\n",
        "        top_n[uid] = user_ratings[:n]\n",
        "    return top_n\n",
        "# Reference: https://surprise.readthedocs.io/en/stable/FAQ.html"
      ],
      "metadata": {
        "id": "y5p4gGLuhPGs"
      },
      "execution_count": 48,
      "outputs": []
    },
    {
      "cell_type": "code",
      "source": [
        "# top 10 for Baseline\n",
        "top_n_base = get_top_n(pred_base, n = 10)\n",
        "for uid, user_ratings in top_n_base.items():\n",
        "    print(uid, [iid for (iid, _) in user_ratings])"
      ],
      "metadata": {
        "id": "TBY3ZTgul06S"
      },
      "execution_count": null,
      "outputs": []
    },
    {
      "cell_type": "code",
      "source": [
        "# top 10 for Matrix Factorization\n",
        "top_n_mf = get_top_n(pred_mf, n = 10)\n",
        "for uid, user_ratings in top_n_mf.items():\n",
        "    print(uid, [iid for (iid, _) in user_ratings])"
      ],
      "metadata": {
        "id": "wxNQ6KwGh8QG"
      },
      "execution_count": null,
      "outputs": []
    },
    {
      "cell_type": "code",
      "source": [
        "# top 10 for Item-based CF\n",
        "top_n_cf = get_top_n(pred_cf, n = 10)\n",
        "for uid, user_ratings in top_n_cf.items():\n",
        "    print(uid, [iid for (iid, _) in user_ratings])"
      ],
      "metadata": {
        "id": "UvmtSjcajfne"
      },
      "execution_count": null,
      "outputs": []
    },
    {
      "cell_type": "code",
      "source": [
        "# top 10 for Slope One\n",
        "top_n_so = get_top_n(pred_so, n = 10)\n",
        "for uid, user_ratings in top_n_so.items():\n",
        "    print(uid, [iid for (iid, _) in user_ratings])"
      ],
      "metadata": {
        "id": "UsuTX0lWjhhw"
      },
      "execution_count": null,
      "outputs": []
    },
    {
      "cell_type": "markdown",
      "source": [
        "## Precision, Recall, and F-measure"
      ],
      "metadata": {
        "id": "DNManV91vs-K"
      }
    },
    {
      "cell_type": "code",
      "source": [
        "# precision, recall, f-measure\n",
        "def precision_recall_at_k(predictions, k=10, threshold=3.5):\n",
        "    # First map the predictions to each user.\n",
        "    user_est_true = defaultdict(list)\n",
        "    for uid, _, true_r, est, _ in predictions:\n",
        "        user_est_true[uid].append((est, true_r))\n",
        "    precisions = dict()\n",
        "    recalls = dict()\n",
        "    for uid, user_ratings in user_est_true.items():\n",
        "        # Sort user ratings by estimated value\n",
        "        user_ratings.sort(key=lambda x: x[0], reverse=True)\n",
        "        # Number of relevant items\n",
        "        n_rel = sum((true_r >= threshold) for (_, true_r) in user_ratings)\n",
        "        # Number of recommended items in top k\n",
        "        n_rec_k = sum((est >= threshold) for (est, _) in user_ratings[:k])\n",
        "        # Number of relevant and recommended items in top k\n",
        "        n_rel_and_rec_k = sum(\n",
        "            ((true_r >= threshold) and (est >= threshold))\n",
        "            for (est, true_r) in user_ratings[:k]\n",
        "        )\n",
        "        # Precision@K: Proportion of recommended items that are relevant\n",
        "        # When n_rec_k is 0, Precision is undefined. We here set it to 0.\n",
        "        precisions[uid] = n_rel_and_rec_k / n_rec_k if n_rec_k != 0 else 0\n",
        "        # Recall@K: Proportion of relevant items that are recommended\n",
        "        # When n_rel is 0, Recall is undefined. We here set it to 0.\n",
        "        recalls[uid] = n_rel_and_rec_k / n_rel if n_rel != 0 else 0\n",
        "    return precisions, recalls\n",
        "# Reference: https://surprise.readthedocs.io/en/stable/FAQ.html\n",
        "\n",
        "def f_measure(precision, recall):\n",
        "  f_m = 2 * (precision * recall) / (precision + recall)\n",
        "  return f_m"
      ],
      "metadata": {
        "id": "EgK3k7BQkKKg"
      },
      "execution_count": 25,
      "outputs": []
    },
    {
      "cell_type": "code",
      "source": [
        "# precision, recall, and f-measure for Baseline\n",
        "precisions, recalls = precision_recall_at_k(pred_base, k=5, threshold=4)\n",
        "print('Precision: ')\n",
        "precision_base = sum(prec for prec in precisions.values()) / len(precisions)\n",
        "print(precision_base)\n",
        "print('Recall: ')\n",
        "recall_base = sum(rec for rec in recalls.values()) / len(recalls)\n",
        "print(recall_base)\n",
        "print('F-measure: ')\n",
        "f_measure_base = f_measure(precision_base, recall_base)\n",
        "print(f_measure_base)"
      ],
      "metadata": {
        "colab": {
          "base_uri": "https://localhost:8080/"
        },
        "id": "azcdNdormoJr",
        "outputId": "27c34cfd-94f7-4053-c487-d78c7e59d55b"
      },
      "execution_count": 27,
      "outputs": [
        {
          "output_type": "stream",
          "name": "stdout",
          "text": [
            "Precision: \n",
            "0.7785858909390405\n",
            "Recall: \n",
            "0.7780736310289463\n",
            "F-measure: \n",
            "0.7783296766976701\n"
          ]
        }
      ]
    },
    {
      "cell_type": "code",
      "source": [
        "# precision, recall, and f-measure for Matrix Factorization\n",
        "precisions, recalls = precision_recall_at_k(pred_mf, k=5, threshold=4)\n",
        "print('Precision: ')\n",
        "precision_mf = sum(prec for prec in precisions.values()) / len(precisions)\n",
        "print(precision_mf)\n",
        "print('Recall: ')\n",
        "recall_mf = sum(rec for rec in recalls.values()) / len(recalls)\n",
        "print(recall_mf)\n",
        "print('F-measure: ')\n",
        "f_measure_mf = f_measure(precision_mf, recall_mf)\n",
        "print(f_measure_mf)"
      ],
      "metadata": {
        "colab": {
          "base_uri": "https://localhost:8080/"
        },
        "id": "2qLcunI8plsH",
        "outputId": "35e74694-4774-4787-f9d0-dbb381247218"
      },
      "execution_count": 28,
      "outputs": [
        {
          "output_type": "stream",
          "name": "stdout",
          "text": [
            "Precision: \n",
            "0.7713990474992086\n",
            "Recall: \n",
            "0.7686286642326603\n",
            "F-measure: \n",
            "0.7700113640200459\n"
          ]
        }
      ]
    },
    {
      "cell_type": "code",
      "source": [
        "# precision, recall, and f-measure for Item-based CF\n",
        "precisions, recalls = precision_recall_at_k(pred_cf, k=5, threshold=4)\n",
        "print('Precision: ')\n",
        "precision_cf = sum(prec for prec in precisions.values()) / len(precisions)\n",
        "print(precision_cf)\n",
        "print('Recall: ')\n",
        "recall_cf = sum(rec for rec in recalls.values()) / len(recalls)\n",
        "print(recall_cf)\n",
        "print('F-measure: ')\n",
        "f_measure_cf = f_measure(precision_cf, recall_cf)\n",
        "print(f_measure_cf)"
      ],
      "metadata": {
        "colab": {
          "base_uri": "https://localhost:8080/"
        },
        "id": "7gegJHV6p63i",
        "outputId": "49336a90-667e-4376-856e-96057f032f20"
      },
      "execution_count": 29,
      "outputs": [
        {
          "output_type": "stream",
          "name": "stdout",
          "text": [
            "Precision: \n",
            "0.8242412976584031\n",
            "Recall: \n",
            "0.8227677051567905\n",
            "F-measure: \n",
            "0.823503842189931\n"
          ]
        }
      ]
    },
    {
      "cell_type": "code",
      "source": [
        "# precision, recall, and f-measure for Slope One\n",
        "precisions, recalls = precision_recall_at_k(pred_so, k=5, threshold=4)\n",
        "print('Precision: ')\n",
        "precision_so = sum(prec for prec in precisions.values()) / len(precisions)\n",
        "print(precision_so)\n",
        "print('Recall: ')\n",
        "recall_so = sum(rec for rec in recalls.values()) / len(recalls)\n",
        "print(recall_so)\n",
        "print('F-measure: ')\n",
        "f_measure_so = f_measure(precision_so, recall_so)\n",
        "print(f_measure_so)"
      ],
      "metadata": {
        "colab": {
          "base_uri": "https://localhost:8080/"
        },
        "id": "Dg7xb2EwqFJo",
        "outputId": "0bc2a0de-46f3-4462-b88b-c3e803aeef9b"
      },
      "execution_count": 30,
      "outputs": [
        {
          "output_type": "stream",
          "name": "stdout",
          "text": [
            "Precision: \n",
            "0.812740365366796\n",
            "Recall: \n",
            "0.8115586583215332\n",
            "F-measure: \n",
            "0.8121490819874939\n"
          ]
        }
      ]
    },
    {
      "cell_type": "markdown",
      "source": [
        "## Results Summary"
      ],
      "metadata": {
        "id": "IYy3mXnCyJ5L"
      }
    },
    {
      "cell_type": "code",
      "source": [
        "print('The following are the results of MAE, RSME, Precision, Recall, and F-measure for all of the algorithms used above.')\n",
        "print()\n",
        "print('Baseline')\n",
        "print('MAE: ', mae_base)\n",
        "print('RSME: ', rsme_base)\n",
        "print('Precision: ', precision_base)\n",
        "print('Recall: ', recall_base)\n",
        "print('F-measure: ', f_measure_base)\n",
        "print()\n",
        "print('Matrix Factorization')\n",
        "print('MAE: ', mae_mf)\n",
        "print('RSME: ', rmse_mf)\n",
        "print('Precision: ', precision_mf)\n",
        "print('Recall: ', recall_mf)\n",
        "print('F-measure: ', f_measure_mf)\n",
        "print()\n",
        "print('Item-based CF')\n",
        "print('MAE: ', mae_cf)\n",
        "print('RSME: ', rsme_cf)\n",
        "print('Precision: ', precision_cf)\n",
        "print('Recall: ', recall_cf)\n",
        "print('F-measure: ', f_measure_cf)\n",
        "print()\n",
        "print('Slope One')\n",
        "print('MAE: ', mae_so)\n",
        "print('RSME: ', rsme_so)\n",
        "print('Precision: ', precision_so)\n",
        "print('Recall: ', recall_so)\n",
        "print('F-measure: ', f_measure_so)"
      ],
      "metadata": {
        "colab": {
          "base_uri": "https://localhost:8080/"
        },
        "id": "8fm75U4FyHRl",
        "outputId": "e9e2bfc1-49ba-4d8d-932d-41e80a92d75d"
      },
      "execution_count": 50,
      "outputs": [
        {
          "output_type": "stream",
          "name": "stdout",
          "text": [
            "The following are the results of MAE, RSME, Precision, Recall, and F-measure for all of the algorithms used above.\n",
            "\n",
            "Baseline\n",
            "MAE:  0.7457710712861408\n",
            "RSME:  1.0365054998969583\n",
            "Precision:  0.7785858909390405\n",
            "Recall:  0.7780736310289463\n",
            "F-measure:  0.7783296766976701\n",
            "\n",
            "Matrix Factorization\n",
            "MAE:  0.7418938679503214\n",
            "RSME:  1.0415269294494476\n",
            "Precision:  0.7713990474992086\n",
            "Recall:  0.7686286642326603\n",
            "F-measure:  0.7700113640200459\n",
            "\n",
            "Item-based CF\n",
            "MAE:  0.7906034375554847\n",
            "RSME:  1.0962673048928995\n",
            "Precision:  0.8242412976584031\n",
            "Recall:  0.8227677051567905\n",
            "F-measure:  0.823503842189931\n",
            "\n",
            "Slope One\n",
            "MAE:  0.7968704897598564\n",
            "RSME:  1.1286997361807634\n",
            "Precision:  0.812740365366796\n",
            "Recall:  0.8115586583215332\n",
            "F-measure:  0.8121490819874939\n"
          ]
        }
      ]
    }
  ]
}